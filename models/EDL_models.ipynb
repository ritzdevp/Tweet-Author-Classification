{
  "nbformat": 4,
  "nbformat_minor": 0,
  "metadata": {
    "colab": {
      "name": "EDL_models.ipynb",
      "provenance": [],
      "authorship_tag": "ABX9TyOwABDyltDrcBq5sB3Vhu6H",
      "include_colab_link": true
    },
    "kernelspec": {
      "name": "python3",
      "display_name": "Python 3"
    },
    "language_info": {
      "name": "python"
    },
    "accelerator": "GPU"
  },
  "cells": [
    {
      "cell_type": "markdown",
      "metadata": {
        "id": "view-in-github",
        "colab_type": "text"
      },
      "source": [
        "<a href=\"https://colab.research.google.com/github/ritzdevp/Tweet-Author-Classification/blob/main/models/EDL_models.ipynb\" target=\"_parent\"><img src=\"https://colab.research.google.com/assets/colab-badge.svg\" alt=\"Open In Colab\"/></a>"
      ]
    },
    {
      "cell_type": "code",
      "execution_count": 1,
      "metadata": {
        "id": "5ZrHI083hdH-"
      },
      "outputs": [],
      "source": [
        "import numpy as np\n",
        "import pandas as pd"
      ]
    },
    {
      "cell_type": "code",
      "source": [
        "!git clone https://github.com/ritzdevp/Tweet-Author-Classification.git"
      ],
      "metadata": {
        "colab": {
          "base_uri": "https://localhost:8080/"
        },
        "id": "SigrNeJZh-ZT",
        "outputId": "66c06a8a-9486-4027-8ed6-1a30bdcabdf9"
      },
      "execution_count": 2,
      "outputs": [
        {
          "output_type": "stream",
          "name": "stdout",
          "text": [
            "Cloning into 'Tweet-Author-Classification'...\n",
            "remote: Enumerating objects: 97, done.\u001b[K\n",
            "remote: Counting objects: 100% (97/97), done.\u001b[K\n",
            "remote: Compressing objects: 100% (68/68), done.\u001b[K\n",
            "remote: Total 97 (delta 41), reused 72 (delta 25), pack-reused 0\u001b[K\n",
            "Unpacking objects: 100% (97/97), done.\n"
          ]
        }
      ]
    },
    {
      "cell_type": "code",
      "source": [
        "data = pd.read_csv('/content/Tweet-Author-Classification/cleaned_tweets.csv', index_col=[0])"
      ],
      "metadata": {
        "id": "OaDv1tPiiDCL"
      },
      "execution_count": 3,
      "outputs": []
    },
    {
      "cell_type": "code",
      "source": [
        "authors2remove = ['elonmusk', 'tyler', 'joebiden', 'openai', 'jeffbezos', 'dhh','sundarpichai', 'ivankatrump']\n",
        "data.columns = ['tweet', 'author']\n",
        "data = data[data[\"author\"].str.contains(\"elonmusk|tyler|joebiden|openai|jeffbezos|dhh|sundarpichai|ivankatrump|narendramodi\") == False]\n",
        "data = data.reset_index(drop=True)\n",
        "data = data.dropna()\n",
        "data['author'] = pd.factorize(data['author'])[0]"
      ],
      "metadata": {
        "id": "1rMCrDmZlVMs"
      },
      "execution_count": 5,
      "outputs": []
    },
    {
      "cell_type": "code",
      "source": [
        "data.head()"
      ],
      "metadata": {
        "colab": {
          "base_uri": "https://localhost:8080/",
          "height": 206
        },
        "id": "uYnOls5TpeGw",
        "outputId": "19b85e00-4ea9-40d4-ae5c-404c1cf40aaa"
      },
      "execution_count": 13,
      "outputs": [
        {
          "output_type": "execute_result",
          "data": {
            "text/plain": [
              "                                               tweet  author\n",
              "0  wishing celebrate today blessed joyful easter ...       0\n",
              "1  michelle send warmest wish gathering tonight p...       0\n",
              "2  mayor washington meant lot michelle — like man...       0\n",
              "3  traveled world together he's captured iconic s...       0\n",
              "4  75th anniversary jackie robinson day we're rem...       0"
            ],
            "text/html": [
              "\n",
              "  <div id=\"df-29a48525-c05e-448c-a968-3d3f026d0a8c\">\n",
              "    <div class=\"colab-df-container\">\n",
              "      <div>\n",
              "<style scoped>\n",
              "    .dataframe tbody tr th:only-of-type {\n",
              "        vertical-align: middle;\n",
              "    }\n",
              "\n",
              "    .dataframe tbody tr th {\n",
              "        vertical-align: top;\n",
              "    }\n",
              "\n",
              "    .dataframe thead th {\n",
              "        text-align: right;\n",
              "    }\n",
              "</style>\n",
              "<table border=\"1\" class=\"dataframe\">\n",
              "  <thead>\n",
              "    <tr style=\"text-align: right;\">\n",
              "      <th></th>\n",
              "      <th>tweet</th>\n",
              "      <th>author</th>\n",
              "    </tr>\n",
              "  </thead>\n",
              "  <tbody>\n",
              "    <tr>\n",
              "      <th>0</th>\n",
              "      <td>wishing celebrate today blessed joyful easter ...</td>\n",
              "      <td>0</td>\n",
              "    </tr>\n",
              "    <tr>\n",
              "      <th>1</th>\n",
              "      <td>michelle send warmest wish gathering tonight p...</td>\n",
              "      <td>0</td>\n",
              "    </tr>\n",
              "    <tr>\n",
              "      <th>2</th>\n",
              "      <td>mayor washington meant lot michelle — like man...</td>\n",
              "      <td>0</td>\n",
              "    </tr>\n",
              "    <tr>\n",
              "      <th>3</th>\n",
              "      <td>traveled world together he's captured iconic s...</td>\n",
              "      <td>0</td>\n",
              "    </tr>\n",
              "    <tr>\n",
              "      <th>4</th>\n",
              "      <td>75th anniversary jackie robinson day we're rem...</td>\n",
              "      <td>0</td>\n",
              "    </tr>\n",
              "  </tbody>\n",
              "</table>\n",
              "</div>\n",
              "      <button class=\"colab-df-convert\" onclick=\"convertToInteractive('df-29a48525-c05e-448c-a968-3d3f026d0a8c')\"\n",
              "              title=\"Convert this dataframe to an interactive table.\"\n",
              "              style=\"display:none;\">\n",
              "        \n",
              "  <svg xmlns=\"http://www.w3.org/2000/svg\" height=\"24px\"viewBox=\"0 0 24 24\"\n",
              "       width=\"24px\">\n",
              "    <path d=\"M0 0h24v24H0V0z\" fill=\"none\"/>\n",
              "    <path d=\"M18.56 5.44l.94 2.06.94-2.06 2.06-.94-2.06-.94-.94-2.06-.94 2.06-2.06.94zm-11 1L8.5 8.5l.94-2.06 2.06-.94-2.06-.94L8.5 2.5l-.94 2.06-2.06.94zm10 10l.94 2.06.94-2.06 2.06-.94-2.06-.94-.94-2.06-.94 2.06-2.06.94z\"/><path d=\"M17.41 7.96l-1.37-1.37c-.4-.4-.92-.59-1.43-.59-.52 0-1.04.2-1.43.59L10.3 9.45l-7.72 7.72c-.78.78-.78 2.05 0 2.83L4 21.41c.39.39.9.59 1.41.59.51 0 1.02-.2 1.41-.59l7.78-7.78 2.81-2.81c.8-.78.8-2.07 0-2.86zM5.41 20L4 18.59l7.72-7.72 1.47 1.35L5.41 20z\"/>\n",
              "  </svg>\n",
              "      </button>\n",
              "      \n",
              "  <style>\n",
              "    .colab-df-container {\n",
              "      display:flex;\n",
              "      flex-wrap:wrap;\n",
              "      gap: 12px;\n",
              "    }\n",
              "\n",
              "    .colab-df-convert {\n",
              "      background-color: #E8F0FE;\n",
              "      border: none;\n",
              "      border-radius: 50%;\n",
              "      cursor: pointer;\n",
              "      display: none;\n",
              "      fill: #1967D2;\n",
              "      height: 32px;\n",
              "      padding: 0 0 0 0;\n",
              "      width: 32px;\n",
              "    }\n",
              "\n",
              "    .colab-df-convert:hover {\n",
              "      background-color: #E2EBFA;\n",
              "      box-shadow: 0px 1px 2px rgba(60, 64, 67, 0.3), 0px 1px 3px 1px rgba(60, 64, 67, 0.15);\n",
              "      fill: #174EA6;\n",
              "    }\n",
              "\n",
              "    [theme=dark] .colab-df-convert {\n",
              "      background-color: #3B4455;\n",
              "      fill: #D2E3FC;\n",
              "    }\n",
              "\n",
              "    [theme=dark] .colab-df-convert:hover {\n",
              "      background-color: #434B5C;\n",
              "      box-shadow: 0px 1px 3px 1px rgba(0, 0, 0, 0.15);\n",
              "      filter: drop-shadow(0px 1px 2px rgba(0, 0, 0, 0.3));\n",
              "      fill: #FFFFFF;\n",
              "    }\n",
              "  </style>\n",
              "\n",
              "      <script>\n",
              "        const buttonEl =\n",
              "          document.querySelector('#df-29a48525-c05e-448c-a968-3d3f026d0a8c button.colab-df-convert');\n",
              "        buttonEl.style.display =\n",
              "          google.colab.kernel.accessAllowed ? 'block' : 'none';\n",
              "\n",
              "        async function convertToInteractive(key) {\n",
              "          const element = document.querySelector('#df-29a48525-c05e-448c-a968-3d3f026d0a8c');\n",
              "          const dataTable =\n",
              "            await google.colab.kernel.invokeFunction('convertToInteractive',\n",
              "                                                     [key], {});\n",
              "          if (!dataTable) return;\n",
              "\n",
              "          const docLinkHtml = 'Like what you see? Visit the ' +\n",
              "            '<a target=\"_blank\" href=https://colab.research.google.com/notebooks/data_table.ipynb>data table notebook</a>'\n",
              "            + ' to learn more about interactive tables.';\n",
              "          element.innerHTML = '';\n",
              "          dataTable['output_type'] = 'display_data';\n",
              "          await google.colab.output.renderOutput(dataTable, element);\n",
              "          const docLink = document.createElement('div');\n",
              "          docLink.innerHTML = docLinkHtml;\n",
              "          element.appendChild(docLink);\n",
              "        }\n",
              "      </script>\n",
              "    </div>\n",
              "  </div>\n",
              "  "
            ]
          },
          "metadata": {},
          "execution_count": 13
        }
      ]
    },
    {
      "cell_type": "code",
      "source": [
        "!pip install -U sentence-transformers"
      ],
      "metadata": {
        "id": "y-Rdsw-ej3x4"
      },
      "execution_count": null,
      "outputs": []
    },
    {
      "cell_type": "code",
      "source": [
        "from sentence_transformers import SentenceTransformer\n",
        "model = SentenceTransformer('paraphrase-MiniLM-L6-v2')"
      ],
      "metadata": {
        "id": "_WrJK7xLjK9V"
      },
      "execution_count": null,
      "outputs": []
    },
    {
      "cell_type": "code",
      "source": [
        "sentences = data['tweet']"
      ],
      "metadata": {
        "id": "yAgDtJXX0-DJ"
      },
      "execution_count": 17,
      "outputs": []
    },
    {
      "cell_type": "code",
      "source": [
        "len(list(sentences))"
      ],
      "metadata": {
        "colab": {
          "base_uri": "https://localhost:8080/"
        },
        "id": "VhUw19TE0__p",
        "outputId": "0290be99-eb36-45c7-cd48-545386d934b1"
      },
      "execution_count": 18,
      "outputs": [
        {
          "output_type": "execute_result",
          "data": {
            "text/plain": [
              "30939"
            ]
          },
          "metadata": {},
          "execution_count": 18
        }
      ]
    },
    {
      "cell_type": "code",
      "source": [
        "sentences = data['tweet']\n",
        "embeddings = model.encode(list(sentences))"
      ],
      "metadata": {
        "id": "znELb2JfrXaI"
      },
      "execution_count": 19,
      "outputs": []
    },
    {
      "cell_type": "code",
      "source": [
        "embeddings.shape"
      ],
      "metadata": {
        "colab": {
          "base_uri": "https://localhost:8080/"
        },
        "id": "WVS3T6XdwfZA",
        "outputId": "d07e00d7-2377-496b-9126-0322e60cb449"
      },
      "execution_count": 20,
      "outputs": [
        {
          "output_type": "execute_result",
          "data": {
            "text/plain": [
              "(30939, 384)"
            ]
          },
          "metadata": {},
          "execution_count": 20
        }
      ]
    },
    {
      "cell_type": "code",
      "source": [
        "bert_features = np.array(embeddings)"
      ],
      "metadata": {
        "id": "8V-Ida012pKj"
      },
      "execution_count": 22,
      "outputs": []
    },
    {
      "cell_type": "code",
      "source": [
        "np.save('bert_features.npy', bert_features)"
      ],
      "metadata": {
        "id": "ClBJLGvT2xzz"
      },
      "execution_count": 23,
      "outputs": []
    },
    {
      "cell_type": "code",
      "source": [
        "X = bert_features.copy()"
      ],
      "metadata": {
        "id": "muzE9SYK77lr"
      },
      "execution_count": 24,
      "outputs": []
    },
    {
      "cell_type": "code",
      "source": [
        "y = list(data['author']).copy()"
      ],
      "metadata": {
        "id": "dyear-al7_2o"
      },
      "execution_count": 25,
      "outputs": []
    },
    {
      "cell_type": "code",
      "source": [
        "from sklearn.model_selection import train_test_split\n",
        "X_train, X_test, y_train, y_test = train_test_split(X, y, test_size=0.3, random_state=42)"
      ],
      "metadata": {
        "id": "gpkEYTBj8C5b"
      },
      "execution_count": 26,
      "outputs": []
    },
    {
      "cell_type": "code",
      "source": [
        "len(X_train[0])"
      ],
      "metadata": {
        "colab": {
          "base_uri": "https://localhost:8080/"
        },
        "id": "6_sNPU3885o3",
        "outputId": "2cafcc15-4293-4f04-8fff-74f1b88ce513"
      },
      "execution_count": 27,
      "outputs": [
        {
          "output_type": "execute_result",
          "data": {
            "text/plain": [
              "384"
            ]
          },
          "metadata": {},
          "execution_count": 27
        }
      ]
    },
    {
      "cell_type": "code",
      "source": [
        "num_classes = len(set(y_train))\n",
        "print(num_classes)"
      ],
      "metadata": {
        "colab": {
          "base_uri": "https://localhost:8080/"
        },
        "id": "sF2PokPD9iPF",
        "outputId": "6dad8441-4a40-48f5-b14c-9d98912c92d4"
      },
      "execution_count": 28,
      "outputs": [
        {
          "output_type": "stream",
          "name": "stdout",
          "text": [
            "13\n"
          ]
        }
      ]
    },
    {
      "cell_type": "code",
      "source": [
        "labels = list(set(y_train))\n",
        "print(labels)"
      ],
      "metadata": {
        "colab": {
          "base_uri": "https://localhost:8080/"
        },
        "id": "Xesp1wvF8_Iy",
        "outputId": "73ea7534-2fd3-4fb4-f7f0-c7142d24b192"
      },
      "execution_count": 58,
      "outputs": [
        {
          "output_type": "stream",
          "name": "stdout",
          "text": [
            "[0, 1, 2, 3, 4, 5, 6, 7, 8, 9, 10, 11, 12]\n"
          ]
        }
      ]
    },
    {
      "cell_type": "code",
      "source": [
        "import time\n",
        "from sklearn.metrics import classification_report"
      ],
      "metadata": {
        "id": "iCOCvDeD2NHi"
      },
      "execution_count": 43,
      "outputs": []
    },
    {
      "cell_type": "markdown",
      "source": [
        "# NEURAL NETWORK"
      ],
      "metadata": {
        "id": "e6SWRWmVFs3T"
      }
    },
    {
      "cell_type": "code",
      "source": [
        "start_time = time.time()\n",
        "from sklearn.neural_network import MLPClassifier\n",
        "clf = MLPClassifier(solver='adam', alpha=1e-5, learning_rate_init=0.001, learning_rate='adaptive',\n",
        "                    hidden_layer_sizes=(384\n",
        "                                        , 256, 64, 13), random_state=1, verbose=False, max_iter=100)\n",
        "clf.fit(X_train, y_train)\n",
        "pred = clf.predict(X_test)\n",
        "from sklearn.metrics import accuracy_score\n",
        "print(accuracy_score(y_test, pred))\n",
        "print(classification_report(y_test, pred, labels=labels))\n",
        "print(\"Time\", time.time() - start_time, \"s\")"
      ],
      "metadata": {
        "colab": {
          "base_uri": "https://localhost:8080/"
        },
        "id": "4h1uXU9N89J9",
        "outputId": "0294823f-d237-4b41-b452-7c6e39829284"
      },
      "execution_count": 60,
      "outputs": [
        {
          "output_type": "stream",
          "name": "stdout",
          "text": [
            "0.5783236371471666\n",
            "              precision    recall  f1-score   support\n",
            "\n",
            "           0       0.80      0.77      0.78       808\n",
            "           1       0.69      0.48      0.57       807\n",
            "           2       0.53      0.51      0.52       754\n",
            "           3       0.47      0.69      0.56       825\n",
            "           4       0.55      0.48      0.51       528\n",
            "           5       0.51      0.42      0.46       815\n",
            "           6       0.44      0.60      0.50       769\n",
            "           7       0.73      0.68      0.70       804\n",
            "           8       0.68      0.61      0.65       794\n",
            "           9       0.69      0.60      0.65       381\n",
            "          10       0.51      0.45      0.48       685\n",
            "          11       0.65      0.66      0.65       511\n",
            "          12       0.49      0.56      0.52       801\n",
            "\n",
            "    accuracy                           0.58      9282\n",
            "   macro avg       0.60      0.58      0.58      9282\n",
            "weighted avg       0.59      0.58      0.58      9282\n",
            "\n",
            "Time 81.11099171638489 s\n"
          ]
        }
      ]
    },
    {
      "cell_type": "code",
      "source": [
        "import time"
      ],
      "metadata": {
        "id": "aRXteZUi1cHx"
      },
      "execution_count": 63,
      "outputs": []
    },
    {
      "cell_type": "markdown",
      "source": [
        "# SVM"
      ],
      "metadata": {
        "id": "ouJHE0ZTDX5p"
      }
    },
    {
      "cell_type": "code",
      "source": [
        "start_time = time.time()\n",
        "from sklearn.pipeline import make_pipeline\n",
        "from sklearn.preprocessing import StandardScaler\n",
        "from sklearn.svm import SVC\n",
        "svm_clf = make_pipeline(StandardScaler(), SVC(gamma='auto'))\n",
        "svm_clf.fit(X_train, y_train)\n",
        "print(\"Time\", time.time() - start_time, \"s\")"
      ],
      "metadata": {
        "colab": {
          "base_uri": "https://localhost:8080/"
        },
        "id": "tJsIboYwDVg3",
        "outputId": "dcd4e201-6724-4304-f779-890a295768bc"
      },
      "execution_count": 64,
      "outputs": [
        {
          "output_type": "stream",
          "name": "stdout",
          "text": [
            "Time 79.27785778045654 s\n"
          ]
        }
      ]
    },
    {
      "cell_type": "code",
      "source": [
        "pred = svm_clf.predict(X_test)\n",
        "print(accuracy_score(y_test, pred))\n",
        "print(classification_report(y_test, pred, labels=labels))"
      ],
      "metadata": {
        "colab": {
          "base_uri": "https://localhost:8080/"
        },
        "id": "zAqVoizQDv-v",
        "outputId": "927ea417-2a47-4d42-bd51-a5786b2ef5d7"
      },
      "execution_count": 65,
      "outputs": [
        {
          "output_type": "stream",
          "name": "stdout",
          "text": [
            "0.6412411118293472\n",
            "              precision    recall  f1-score   support\n",
            "\n",
            "           0       0.79      0.81      0.80       808\n",
            "           1       0.68      0.70      0.69       807\n",
            "           2       0.55      0.62      0.59       754\n",
            "           3       0.66      0.59      0.62       825\n",
            "           4       0.64      0.55      0.59       528\n",
            "           5       0.51      0.58      0.55       815\n",
            "           6       0.49      0.64      0.55       769\n",
            "           7       0.74      0.73      0.74       804\n",
            "           8       0.68      0.72      0.70       794\n",
            "           9       0.76      0.60      0.67       381\n",
            "          10       0.64      0.50      0.56       685\n",
            "          11       0.75      0.67      0.71       511\n",
            "          12       0.63      0.55      0.59       801\n",
            "\n",
            "    accuracy                           0.64      9282\n",
            "   macro avg       0.65      0.64      0.64      9282\n",
            "weighted avg       0.65      0.64      0.64      9282\n",
            "\n"
          ]
        }
      ]
    },
    {
      "cell_type": "markdown",
      "source": [
        "# RANDOM FOREST"
      ],
      "metadata": {
        "id": "l2Zhve4hFU1D"
      }
    },
    {
      "cell_type": "code",
      "source": [
        "start_time = time.time()\n",
        "from sklearn.ensemble import RandomForestClassifier\n",
        "rf_clf = RandomForestClassifier(max_depth=10, random_state=0)\n",
        "rf_clf.fit(X_train, y_train)\n",
        "print(\"Time\", time.time() - start_time, \"s\")"
      ],
      "metadata": {
        "colab": {
          "base_uri": "https://localhost:8080/"
        },
        "id": "7qvzr4VCFUks",
        "outputId": "e296f7bb-c5bd-4551-dcfb-840412dc2f8d"
      },
      "execution_count": 66,
      "outputs": [
        {
          "output_type": "stream",
          "name": "stdout",
          "text": [
            "Time 31.250518321990967 s\n"
          ]
        }
      ]
    },
    {
      "cell_type": "code",
      "source": [
        "pred = rf_clf.predict(X_test)\n",
        "print(accuracy_score(y_test, pred))\n",
        "print(classification_report(y_test, pred, labels=labels))"
      ],
      "metadata": {
        "colab": {
          "base_uri": "https://localhost:8080/"
        },
        "id": "FaNORuqtFsUQ",
        "outputId": "4759f135-9c26-485e-f739-a41bcd2271e2"
      },
      "execution_count": 67,
      "outputs": [
        {
          "output_type": "stream",
          "name": "stdout",
          "text": [
            "0.4861021331609567\n",
            "              precision    recall  f1-score   support\n",
            "\n",
            "           0       0.53      0.75      0.62       808\n",
            "           1       0.50      0.63      0.56       807\n",
            "           2       0.46      0.39      0.42       754\n",
            "           3       0.43      0.56      0.48       825\n",
            "           4       0.72      0.18      0.29       528\n",
            "           5       0.40      0.33      0.36       815\n",
            "           6       0.42      0.53      0.47       769\n",
            "           7       0.49      0.74      0.59       804\n",
            "           8       0.47      0.70      0.56       794\n",
            "           9       0.83      0.23      0.36       381\n",
            "          10       0.61      0.17      0.27       685\n",
            "          11       0.78      0.42      0.55       511\n",
            "          12       0.46      0.36      0.40       801\n",
            "\n",
            "    accuracy                           0.49      9282\n",
            "   macro avg       0.55      0.46      0.46      9282\n",
            "weighted avg       0.52      0.49      0.47      9282\n",
            "\n"
          ]
        }
      ]
    },
    {
      "cell_type": "markdown",
      "source": [
        "#LOGISTIC REGRESSION\n"
      ],
      "metadata": {
        "id": "DUibvN3NGgXu"
      }
    },
    {
      "cell_type": "code",
      "source": [
        "start_time = time.time()\n",
        "from sklearn.linear_model import LogisticRegression\n",
        "lr_clf = LogisticRegression(random_state=0, max_iter=100).fit(X_train, y_train)\n",
        "print(\"Time\", time.time() - start_time, \"s\")"
      ],
      "metadata": {
        "colab": {
          "base_uri": "https://localhost:8080/"
        },
        "id": "ADNjp84_Fzrb",
        "outputId": "e1a99233-dde2-448b-b00a-5acee44c1f6e"
      },
      "execution_count": 68,
      "outputs": [
        {
          "output_type": "stream",
          "name": "stdout",
          "text": [
            "Time 10.101628065109253 s\n"
          ]
        },
        {
          "output_type": "stream",
          "name": "stderr",
          "text": [
            "/usr/local/lib/python3.7/dist-packages/sklearn/linear_model/_logistic.py:818: ConvergenceWarning: lbfgs failed to converge (status=1):\n",
            "STOP: TOTAL NO. of ITERATIONS REACHED LIMIT.\n",
            "\n",
            "Increase the number of iterations (max_iter) or scale the data as shown in:\n",
            "    https://scikit-learn.org/stable/modules/preprocessing.html\n",
            "Please also refer to the documentation for alternative solver options:\n",
            "    https://scikit-learn.org/stable/modules/linear_model.html#logistic-regression\n",
            "  extra_warning_msg=_LOGISTIC_SOLVER_CONVERGENCE_MSG,\n"
          ]
        }
      ]
    },
    {
      "cell_type": "code",
      "source": [
        "pred = lr_clf.predict(X_test)\n",
        "print(accuracy_score(y_test, pred))\n",
        "print(classification_report(y_test, pred, labels=labels))"
      ],
      "metadata": {
        "colab": {
          "base_uri": "https://localhost:8080/"
        },
        "id": "6siX-cmFH6VG",
        "outputId": "079ebe7c-7d02-4b6a-fbc9-ef7ed779d781"
      },
      "execution_count": 69,
      "outputs": [
        {
          "output_type": "stream",
          "name": "stdout",
          "text": [
            "0.6026718379659556\n",
            "              precision    recall  f1-score   support\n",
            "\n",
            "           0       0.72      0.76      0.74       808\n",
            "           1       0.65      0.65      0.65       807\n",
            "           2       0.53      0.55      0.54       754\n",
            "           3       0.58      0.58      0.58       825\n",
            "           4       0.57      0.55      0.56       528\n",
            "           5       0.49      0.47      0.48       815\n",
            "           6       0.49      0.54      0.52       769\n",
            "           7       0.70      0.72      0.71       804\n",
            "           8       0.65      0.68      0.66       794\n",
            "           9       0.69      0.63      0.66       381\n",
            "          10       0.56      0.50      0.53       685\n",
            "          11       0.66      0.67      0.66       511\n",
            "          12       0.57      0.54      0.56       801\n",
            "\n",
            "    accuracy                           0.60      9282\n",
            "   macro avg       0.60      0.60      0.60      9282\n",
            "weighted avg       0.60      0.60      0.60      9282\n",
            "\n"
          ]
        }
      ]
    }
  ]
}